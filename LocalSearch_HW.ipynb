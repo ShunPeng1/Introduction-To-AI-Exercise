{
  "nbformat": 4,
  "nbformat_minor": 0,
  "metadata": {
    "colab": {
      "provenance": [],
      "include_colab_link": true
    },
    "kernelspec": {
      "name": "python3",
      "display_name": "Python 3"
    },
    "language_info": {
      "name": "python"
    }
  },
  "cells": [
    {
      "cell_type": "markdown",
      "metadata": {
        "id": "view-in-github",
        "colab_type": "text"
      },
      "source": [
        "<a href=\"https://colab.research.google.com/github/ShunPeng1/Introduction-To-AI-Exercise/blob/main/LocalSearch_HW.ipynb\" target=\"_parent\"><img src=\"https://colab.research.google.com/assets/colab-badge.svg\" alt=\"Open In Colab\"/></a>"
      ]
    },
    {
      "cell_type": "markdown",
      "source": [
        "Course: **Introduction to Artificial Intelligence** \\\n",
        "Lecturer: **Nguyen Thanh An** \\\n",
        "Lab 03: **Local Search**"
      ],
      "metadata": {
        "id": "AdN_uf9Mex-d"
      }
    },
    {
      "cell_type": "markdown",
      "source": [
        "Students implement Hill-Climbing Search, Local Beam Search, and Simulated Annealing Search algorithms following TODO 1 - 3. \\\n",
        "Students can add supporting attributes and methods to the three classes as needed."
      ],
      "metadata": {
        "id": "mm5b-FZhfA5H"
      }
    },
    {
      "cell_type": "markdown",
      "source": [
        "# Libraries"
      ],
      "metadata": {
        "id": "9In-lpCRc7rc"
      }
    },
    {
      "cell_type": "code",
      "source": [
        "import os\n",
        "import heapq"
      ],
      "metadata": {
        "id": "baZnzmhNW8KU"
      },
      "execution_count": null,
      "outputs": []
    },
    {
      "cell_type": "markdown",
      "source": [
        "# Graph class"
      ],
      "metadata": {
        "id": "Hm_qjIb4dB8a"
      }
    },
    {
      "cell_type": "code",
      "execution_count": null,
      "metadata": {
        "id": "IBUbARThU6VK"
      },
      "outputs": [],
      "source": [
        "# Directed, weighted graphs\n",
        "class Graph:\n",
        "  def __init__(self):\n",
        "    self.AL = dict() # adjacency list\n",
        "    self.V = 0\n",
        "    self.E = 0\n",
        "    self.H = dict()\n",
        "\n",
        "  def __str__(self):\n",
        "    res = 'V: %d, E: %d\\n'%(self.V, self.E)\n",
        "    for u, neighbors in self.AL.items():\n",
        "      line = '%d: %s\\n'%(u, str(neighbors))\n",
        "      res += line\n",
        "    for u, h in self.H.items():\n",
        "      line = 'h(%d) = %d\\n'%(u, h)\n",
        "    return res\n",
        "\n",
        "  def print(self):\n",
        "    print(str(self))\n",
        "\n",
        "  def load_from_file(self, filename):\n",
        "    '''\n",
        "        Example input file:\n",
        "            V E\n",
        "            u v w\n",
        "            u v w\n",
        "            u v w\n",
        "            ...\n",
        "            u1 h1\n",
        "            u2 h2\n",
        "            u3 h3\n",
        "            ...\n",
        "\n",
        "        # input.txt\n",
        "        7 8\n",
        "        0 1 5\n",
        "        0 2 6\n",
        "        1 3 12\n",
        "        1 4 9\n",
        "        2 5 5\n",
        "        3 5 8\n",
        "        3 6 7\n",
        "        4 6 4\n",
        "        0 14\n",
        "        1 13\n",
        "        2 12\n",
        "        3 11\n",
        "        4 10\n",
        "        5 9\n",
        "        6 0\n",
        "    '''\n",
        "    if os.path.exists(filename):\n",
        "      with open(filename) as g:\n",
        "        self.V, self.E = [int(it) for it in g.readline().split()]\n",
        "        for i in range(self.E):\n",
        "          line = g.readline()\n",
        "          u, v, w = [int(it) for it in line.strip().split()]\n",
        "          if u not in self.AL:\n",
        "            self.AL[u] = []\n",
        "          self.AL[u].append((v, w))\n",
        "        for i in range(self.V):\n",
        "          line = g.readline()\n",
        "          u, h = [int(it) for it in line.strip().split()]\n",
        "          self.H[u] = h"
      ]
    },
    {
      "cell_type": "code",
      "source": [
        "g = Graph()\n",
        "g.load_from_file('input.txt')\n",
        "g.print()"
      ],
      "metadata": {
        "colab": {
          "base_uri": "https://localhost:8080/"
        },
        "id": "k_3EmSFKXtwk",
        "outputId": "a3452b01-fec7-43d9-df26-89ed6a31cbd9"
      },
      "execution_count": null,
      "outputs": [
        {
          "output_type": "stream",
          "name": "stdout",
          "text": [
            "V: 0, E: 0\n",
            "\n"
          ]
        }
      ]
    },
    {
      "cell_type": "markdown",
      "source": [
        "# Search Strategies"
      ],
      "metadata": {
        "id": "95fgste5dFp0"
      }
    },
    {
      "cell_type": "code",
      "source": [
        "class LocalSearchStrategy:\n",
        "  def search(self, g: Graph, src: int) -> tuple:\n",
        "    '''\n",
        "    return a tuple (u, p) in which\n",
        "      u: the local maximum state\n",
        "      p: the priority/weight/desirability/cost of u\n",
        "    '''\n",
        "    return (None, None)"
      ],
      "metadata": {
        "id": "DjEuaXToYqk6"
      },
      "execution_count": null,
      "outputs": []
    },
    {
      "cell_type": "code",
      "source": [
        "class HillClimbingSearch(LocalSearchStrategy):\n",
        "  def search(self, g: Graph, src: int) -> tuple:\n",
        "    '''\n",
        "    return a tuple (u, p) in which\n",
        "      u: the local maximum state\n",
        "      p: the priority/weight/desirability/cost of u\n",
        "    '''\n",
        "    return (None, None)"
      ],
      "metadata": {
        "id": "Iax-_lNJZcQc"
      },
      "execution_count": null,
      "outputs": []
    },
    {
      "cell_type": "code",
      "source": [
        "class LocalBeamSearch(LocalSearchStrategy):\n",
        "  def search(self, g: Graph, src: int) -> tuple:\n",
        "    '''\n",
        "    return a tuple (u, p) in which\n",
        "      u: the local maximum state\n",
        "      p: the priority/weight/desirability/cost of u\n",
        "\n",
        "    Note:\n",
        "    - parameter n is provided in the constructor\n",
        "    '''\n",
        "    return (None, None)"
      ],
      "metadata": {
        "id": "b3aVMO8YxGC9"
      },
      "execution_count": null,
      "outputs": []
    },
    {
      "cell_type": "code",
      "source": [
        "class SimulatedAnnealingSearch(LocalSearchStrategy):\n",
        "  def search(self, g: Graph, src: int) -> tuple:\n",
        "    '''\n",
        "    return a tuple (u, p) in which\n",
        "      u: the local maximum state\n",
        "      p: the priority/weight/desirability/cost of u\n",
        "\n",
        "    Note: schedule(t) = 1/(t^2) with t is the iteration step\n",
        "    '''\n",
        "    return (None, None)"
      ],
      "metadata": {
        "id": "OMwlpNHcxGYl"
      },
      "execution_count": null,
      "outputs": []
    },
    {
      "cell_type": "markdown",
      "source": [
        "# Evaluation"
      ],
      "metadata": {
        "id": "hzWhWbDMdItW"
      }
    },
    {
      "cell_type": "code",
      "source": [
        "hcs = HillClimbingSearch()\n",
        "lbs = LocalBeamSearch()\n",
        "sas = SimulatedAnnealingSearch()\n",
        "\n",
        "for stg in [hcs, lbs, sas]:\n",
        "  print(stg)\n",
        "  u, p = stg.search(g, 0)\n",
        "  print(u, p)"
      ],
      "metadata": {
        "colab": {
          "base_uri": "https://localhost:8080/"
        },
        "id": "kI0wFSGuaKeT",
        "outputId": "132bd465-cec5-436d-fd07-2061b825d1ef"
      },
      "execution_count": null,
      "outputs": [
        {
          "output_type": "stream",
          "name": "stdout",
          "text": [
            "<__main__.HillClimbingSearch object at 0x7fbd30164850>\n",
            "None None\n",
            "<__main__.LocalBeamSearch object at 0x7fbd301640d0>\n",
            "None None\n",
            "<__main__.SimulatedAnnealingSearch object at 0x7fbd30164a90>\n",
            "None None\n"
          ]
        }
      ]
    },
    {
      "cell_type": "markdown",
      "source": [
        "# Submission Notice\n",
        "\n",
        "\n",
        "*   Maintain all cell outputs\n",
        "*   Download and rename the notebook as **lab03_\\<Student ID\\>.ipynb**\n",
        "*   Submit by the deadline\n"
      ],
      "metadata": {
        "id": "95erCQsOdTfL"
      }
    }
  ]
}